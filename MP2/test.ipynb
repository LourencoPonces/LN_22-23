{
 "cells": [
  {
   "cell_type": "code",
   "execution_count": 1,
   "metadata": {},
   "outputs": [
    {
     "data": {
      "text/html": [
       "<div>\n",
       "<style scoped>\n",
       "    .dataframe tbody tr th:only-of-type {\n",
       "        vertical-align: middle;\n",
       "    }\n",
       "\n",
       "    .dataframe tbody tr th {\n",
       "        vertical-align: top;\n",
       "    }\n",
       "\n",
       "    .dataframe thead th {\n",
       "        text-align: right;\n",
       "    }\n",
       "</style>\n",
       "<table border=\"1\" class=\"dataframe\">\n",
       "  <thead>\n",
       "    <tr style=\"text-align: right;\">\n",
       "      <th></th>\n",
       "      <th>Content</th>\n",
       "      <th>Label</th>\n",
       "    </tr>\n",
       "  </thead>\n",
       "  <tbody>\n",
       "    <tr>\n",
       "      <th>383</th>\n",
       "      <td>\" the end of the affair \" is a dark and moody...</td>\n",
       "      <td>pos</td>\n",
       "    </tr>\n",
       "    <tr>\n",
       "      <th>425</th>\n",
       "      <td>one year has passed since the last time we saw...</td>\n",
       "      <td>pos</td>\n",
       "    </tr>\n",
       "    <tr>\n",
       "      <th>736</th>\n",
       "      <td>as the film opens up , expectant unwed mother ...</td>\n",
       "      <td>pos</td>\n",
       "    </tr>\n",
       "    <tr>\n",
       "      <th>1461</th>\n",
       "      <td>\" first rule of fight club is , don't talk ab...</td>\n",
       "      <td>neg</td>\n",
       "    </tr>\n",
       "    <tr>\n",
       "      <th>1295</th>\n",
       "      <td>\" there's nothing new under the sun \" is a ph...</td>\n",
       "      <td>neg</td>\n",
       "    </tr>\n",
       "  </tbody>\n",
       "</table>\n",
       "</div>"
      ],
      "text/plain": [
       "                                                Content Label\n",
       "383    \" the end of the affair \" is a dark and moody...   pos\n",
       "425   one year has passed since the last time we saw...   pos\n",
       "736   as the film opens up , expectant unwed mother ...   pos\n",
       "1461   \" first rule of fight club is , don't talk ab...   neg\n",
       "1295   \" there's nothing new under the sun \" is a ph...   neg"
      ]
     },
     "execution_count": 1,
     "metadata": {},
     "output_type": "execute_result"
    }
   ],
   "source": [
    "import pandas as pd\n",
    "\n",
    "# train Data\n",
    "trainData = pd.read_csv(\"https://raw.githubusercontent.com/Vasistareddy/sentiment_analysis/master/data/train.csv\")\n",
    "\n",
    "# test Data\n",
    "testData = pd.read_csv(\"https://raw.githubusercontent.com/Vasistareddy/sentiment_analysis/master/data/test.csv\")\n",
    "\n",
    "trainData.sample(frac=1).head(5)"
   ]
  },
  {
   "cell_type": "code",
   "execution_count": 2,
   "metadata": {},
   "outputs": [],
   "source": [
    "from sklearn.feature_extraction.text import TfidfVectorizer\n",
    "\n",
    "# Create feature vectors\n",
    "vectorizer = TfidfVectorizer(min_df = 5,\n",
    "                             max_df = 0.8,\n",
    "                             sublinear_tf = True,\n",
    "                             use_idf = True)\n",
    "\n",
    "train_vectors = vectorizer.fit_transform(trainData['Content'])\n",
    "test_vectors = vectorizer.transform(testData['Content'])"
   ]
  },
  {
   "cell_type": "code",
   "execution_count": 3,
   "metadata": {},
   "outputs": [
    {
     "name": "stdout",
     "output_type": "stream",
     "text": [
      "Training time: 5.555349s; Prediction time: 0.536156s\n",
      "positive:  {'precision': 0.9191919191919192, 'recall': 0.91, 'f1-score': 0.9145728643216081, 'support': 100}\n",
      "negative:  {'precision': 0.9108910891089109, 'recall': 0.92, 'f1-score': 0.9154228855721394, 'support': 100}\n"
     ]
    }
   ],
   "source": [
    "import time\n",
    "from sklearn import svm\n",
    "from sklearn.metrics import classification_report\n",
    "\n",
    "# Perform classification with SVM, kernel=linear\n",
    "classifier_linear = svm.SVC(kernel='linear')\n",
    "t0 = time.time()\n",
    "\n",
    "classifier_linear.fit(train_vectors, trainData['Label'])\n",
    "t1 = time.time()\n",
    "\n",
    "prediction_linear = classifier_linear.predict(test_vectors)\n",
    "t2 = time.time()\n",
    "\n",
    "time_linear_train = t1-t0\n",
    "time_linear_predict = t2-t1\n",
    "\n",
    "# results\n",
    "print(\"Training time: %fs; Prediction time: %fs\" % (time_linear_train, time_linear_predict))\n",
    "report = classification_report(testData['Label'], prediction_linear, output_dict=True)\n",
    "print('positive: ', report['pos'])\n",
    "print('negative: ', report['neg'])"
   ]
  },
  {
   "cell_type": "code",
   "execution_count": 4,
   "metadata": {},
   "outputs": [
    {
     "name": "stdout",
     "output_type": "stream",
     "text": [
      "['pos']\n"
     ]
    }
   ],
   "source": [
    "review = \"\"\"SUPERB, I AM IN LOVE IN THIS PHONE\"\"\"\n",
    "\n",
    "review_vector = vectorizer.transform([review]) # vectorizing\n",
    "\n",
    "print(classifier_linear.predict(review_vector))"
   ]
  },
  {
   "cell_type": "code",
   "execution_count": 5,
   "metadata": {},
   "outputs": [],
   "source": [
    "# -------------------------------------------------------------------------------------------\n",
    "# -------------------------------------------------------------------------------------------\n",
    "# -------------------------------------------------------------------------------------------"
   ]
  },
  {
   "cell_type": "code",
   "execution_count": 6,
   "metadata": {},
   "outputs": [
    {
     "name": "stdout",
     "output_type": "stream",
     "text": [
      "9999\n"
     ]
    },
    {
     "data": {
      "text/html": [
       "<div>\n",
       "<style scoped>\n",
       "    .dataframe tbody tr th:only-of-type {\n",
       "        vertical-align: middle;\n",
       "    }\n",
       "\n",
       "    .dataframe tbody tr th {\n",
       "        vertical-align: top;\n",
       "    }\n",
       "\n",
       "    .dataframe thead th {\n",
       "        text-align: right;\n",
       "    }\n",
       "</style>\n",
       "<table border=\"1\" class=\"dataframe\">\n",
       "  <thead>\n",
       "    <tr style=\"text-align: right;\">\n",
       "      <th></th>\n",
       "      <th>=VeryGood=</th>\n",
       "      <th>Stamp and Scrape</th>\n",
       "      <th>Unnamed: 2</th>\n",
       "      <th>Unnamed: 3</th>\n",
       "      <th>Unnamed: 4</th>\n",
       "    </tr>\n",
       "  </thead>\n",
       "  <tbody>\n",
       "    <tr>\n",
       "      <th>0</th>\n",
       "      <td>=Unsatisfactory=</td>\n",
       "      <td>Did not even tingle for ant aging effect</td>\n",
       "      <td>NaN</td>\n",
       "      <td>NaN</td>\n",
       "      <td>NaN</td>\n",
       "    </tr>\n",
       "    <tr>\n",
       "      <th>1</th>\n",
       "      <td>=VeryGood=</td>\n",
       "      <td>Well, I like it</td>\n",
       "      <td>NaN</td>\n",
       "      <td>NaN</td>\n",
       "      <td>NaN</td>\n",
       "    </tr>\n",
       "    <tr>\n",
       "      <th>2</th>\n",
       "      <td>=Excellent=</td>\n",
       "      <td>Much better than what I was using.</td>\n",
       "      <td>NaN</td>\n",
       "      <td>NaN</td>\n",
       "      <td>NaN</td>\n",
       "    </tr>\n",
       "    <tr>\n",
       "      <th>3</th>\n",
       "      <td>=Unsatisfactory=</td>\n",
       "      <td>Disappointed with Usage and Dosage</td>\n",
       "      <td>NaN</td>\n",
       "      <td>NaN</td>\n",
       "      <td>NaN</td>\n",
       "    </tr>\n",
       "    <tr>\n",
       "      <th>4</th>\n",
       "      <td>=Poor=</td>\n",
       "      <td>Don't work?</td>\n",
       "      <td>NaN</td>\n",
       "      <td>NaN</td>\n",
       "      <td>NaN</td>\n",
       "    </tr>\n",
       "  </tbody>\n",
       "</table>\n",
       "</div>"
      ],
      "text/plain": [
       "         =VeryGood=                          Stamp and Scrape  Unnamed: 2  \\\n",
       "0  =Unsatisfactory=  Did not even tingle for ant aging effect         NaN   \n",
       "1        =VeryGood=                           Well, I like it         NaN   \n",
       "2       =Excellent=        Much better than what I was using.         NaN   \n",
       "3  =Unsatisfactory=        Disappointed with Usage and Dosage         NaN   \n",
       "4            =Poor=                               Don't work?         NaN   \n",
       "\n",
       "   Unnamed: 3  Unnamed: 4  \n",
       "0         NaN         NaN  \n",
       "1         NaN         NaN  \n",
       "2         NaN         NaN  \n",
       "3         NaN         NaN  \n",
       "4         NaN         NaN  "
      ]
     },
     "execution_count": 6,
     "metadata": {},
     "output_type": "execute_result"
    }
   ],
   "source": [
    "from numpy.random import RandomState\n",
    "\n",
    "fileTest = pd.read_csv('train.txt', sep='\\t')\n",
    "fileTest.to_csv('train.csv', index=True)\n",
    "print(len(fileTest.index))\n",
    "\n",
    "rng = RandomState()\n",
    "train = fileTest.sample(frac=0.9, random_state=rng)\n",
    "test = fileTest.loc[~fileTest.index.isin(train.index)]\n",
    "\n",
    "fileTest.head()"
   ]
  },
  {
   "cell_type": "code",
   "execution_count": 15,
   "metadata": {},
   "outputs": [
    {
     "name": "stdout",
     "output_type": "stream",
     "text": [
      "10000\n",
      "7            =Excellent=\n",
      "23           =Excellent=\n",
      "30      =Unsatisfactory=\n",
      "61            =VeryGood=\n",
      "65            =VeryGood=\n",
      "              ...       \n",
      "9945              =Good=\n",
      "9953         =Excellent=\n",
      "9961    =Unsatisfactory=\n",
      "9966    =Unsatisfactory=\n",
      "9971         =Excellent=\n",
      "Name: Label, Length: 1000, dtype: object\n"
     ]
    }
   ],
   "source": [
    "from numpy.random import RandomState\n",
    "import pandas as pd\n",
    "\n",
    "textFile = pd.read_csv('train.txt', sep='\\t', usecols=[0,1], header=None, names=[\"Label\", \"Review\"])\n",
    "\n",
    "rng = RandomState()\n",
    "train = textFile.sample(frac=0.9, random_state=rng)\n",
    "test = textFile.loc[~textFile.index.isin(train.index)]\n",
    "\n",
    "print(len(textFile.index))\n",
    "\n",
    "textFile.head()\n",
    "\n",
    "print(test['Label'])"
   ]
  },
  {
   "cell_type": "code",
   "execution_count": 10,
   "metadata": {},
   "outputs": [
    {
     "name": "stdout",
     "output_type": "stream",
     "text": [
      "  (1, 736)\t1.0\n",
      "  (2, 878)\t0.5324049218213973\n",
      "  (2, 477)\t0.48124755059642865\n",
      "  (2, 300)\t0.3619145515741788\n",
      "  (2, 208)\t0.5949484445093968\n",
      "  (3, 898)\t0.3042967944074409\n",
      "  (3, 859)\t0.4789985093845005\n",
      "  (3, 501)\t0.24070654030600436\n",
      "  (3, 436)\t0.4668434021359808\n",
      "  (3, 361)\t0.3337522184676491\n",
      "  (3, 68)\t0.4248578082787837\n",
      "  (3, 22)\t0.3319439526023478\n",
      "  (4, 671)\t0.743943394075088\n",
      "  (4, 274)\t0.6682426403725209\n",
      "  (5, 708)\t0.9294201126143076\n",
      "  (5, 300)\t0.36902337902632665\n",
      "  (6, 423)\t0.8961605720928977\n",
      "  (6, 37)\t0.4437299054899617\n",
      "  (7, 898)\t0.37317645966020935\n",
      "  (7, 895)\t0.5546022716519308\n",
      "  (7, 775)\t0.4955521874762619\n",
      "  (7, 509)\t0.5546022716519308\n",
      "  (8, 794)\t0.3265165122250394\n",
      "  (8, 620)\t0.6303756972298689\n",
      "  (8, 541)\t0.385824224660968\n",
      "  :\t:\n",
      "  (990, 899)\t0.4011715291989211\n",
      "  (990, 869)\t0.3876785654852581\n",
      "  (990, 731)\t0.572043995315692\n",
      "  (990, 158)\t0.6012756451468428\n",
      "  (991, 743)\t0.8370580944268312\n",
      "  (991, 335)\t0.5471140160464928\n",
      "  (992, 541)\t0.34476213411921103\n",
      "  (992, 515)\t0.3242791001795409\n",
      "  (992, 501)\t0.2789089151898118\n",
      "  (992, 466)\t0.4405177257017909\n",
      "  (992, 78)\t0.5146376429385987\n",
      "  (992, 65)\t0.4891668252294731\n",
      "  (993, 521)\t0.48285228673695313\n",
      "  (993, 477)\t0.6998775335745675\n",
      "  (993, 300)\t0.5263317463259034\n",
      "  (995, 73)\t1.0\n",
      "  (996, 720)\t0.7597598494875919\n",
      "  (996, 522)\t0.6502037919810923\n",
      "  (997, 521)\t0.4002714814880584\n",
      "  (997, 279)\t0.9163966068833705\n",
      "  (998, 326)\t1.0\n",
      "  (999, 770)\t0.31478186411440884\n",
      "  (999, 475)\t0.6453301602366441\n",
      "  (999, 408)\t0.2984903145749523\n",
      "  (999, 302)\t0.6287804819001231\n"
     ]
    }
   ],
   "source": [
    "# Create feature vectors\n",
    "vectorizer = TfidfVectorizer(min_df = 5,\n",
    "                             max_df = 0.8,\n",
    "                             sublinear_tf = True,\n",
    "                             use_idf = True)\n",
    "\n",
    "train_vectors = vectorizer.fit_transform(train['Review'])\n",
    "test_vectors = vectorizer.transform(test['Review'])"
   ]
  },
  {
   "cell_type": "code",
   "execution_count": 9,
   "metadata": {},
   "outputs": [
    {
     "name": "stdout",
     "output_type": "stream",
     "text": [
      "Training time: 3.653224s; Prediction time: 0.238998s\n",
      "Accuracy: 46.300000000000004 %\n",
      "1:  {'precision': 0.6086956521739131, 'recall': 0.5971563981042654, 'f1-score': 0.6028708133971292, 'support': 211}\n",
      "2:  {'precision': 0.405, 'recall': 0.42857142857142855, 'f1-score': 0.416452442159383, 'support': 189}\n",
      "3:  {'precision': 0.4772727272727273, 'recall': 0.4097560975609756, 'f1-score': 0.4409448818897638, 'support': 205}\n",
      "4:  {'precision': 0.4473684210526316, 'recall': 0.3881278538812785, 'f1-score': 0.41564792176039117, 'support': 219}\n",
      "5:  {'precision': 0.3832599118942731, 'recall': 0.4943181818181818, 'f1-score': 0.43176178660049624, 'support': 176}\n"
     ]
    }
   ],
   "source": [
    "# Perform classification with SVM, kernel=linear\n",
    "#classifier_linear = svm.SVC(kernel='linear')\n",
    "classifier_linear = svm.SVC(kernel='rbf')\n",
    "#classifier_linear = svm.SVC(kernel='poly')\n",
    "#classifier_linear = svm.SVC(kernel='sigmoid')\n",
    "t0 = time.time()\n",
    "\n",
    "classifier_linear.fit(train_vectors, train['Label'])\n",
    "t1 = time.time()\n",
    "\n",
    "prediction_linear = classifier_linear.predict(test_vectors)\n",
    "t2 = time.time()\n",
    "\n",
    "time_linear_train = t1-t0\n",
    "time_linear_predict = t2-t1\n",
    "\n",
    "# results\n",
    "print(\"Training time: %fs; Prediction time: %fs\" % (time_linear_train, time_linear_predict))\n",
    "#print(prediction_linear)\n",
    "\n",
    "count = 0\n",
    "for p, t in zip(prediction_linear, test['Label']):\n",
    "    if p == t:\n",
    "        count = count + 1\n",
    "\n",
    "print(\"Accuracy:\",count / len(prediction_linear) * 100,\"%\")\n",
    "\n",
    "\n",
    "\n",
    "\n",
    "report = classification_report(test['Label'], prediction_linear, output_dict=True)\n",
    "\n",
    "#print(prediction_linear)\n",
    "print('1: ', report['=Excellent='])\n",
    "print('2: ', report['=VeryGood='])\n",
    "print('3: ', report['=Good='])\n",
    "print('4: ', report['=Unsatisfactory='])\n",
    "print('5: ', report['=Poor='])"
   ]
  },
  {
   "cell_type": "code",
   "execution_count": 22,
   "metadata": {},
   "outputs": [
    {
     "name": "stdout",
     "output_type": "stream",
     "text": [
      "['=Excellent=']\n"
     ]
    }
   ],
   "source": [
    "review = \"This was the best thing I bought\"\n",
    "\n",
    "review_vector = vectorizer.transform([review]) # vectorizing\n",
    "\n",
    "print(classifier_linear.predict(review_vector))"
   ]
  }
 ],
 "metadata": {
  "kernelspec": {
   "display_name": "Python 3 (ipykernel)",
   "language": "python",
   "name": "python3"
  },
  "language_info": {
   "codemirror_mode": {
    "name": "ipython",
    "version": 3
   },
   "file_extension": ".py",
   "mimetype": "text/x-python",
   "name": "python",
   "nbconvert_exporter": "python",
   "pygments_lexer": "ipython3",
   "version": "3.8.10"
  }
 },
 "nbformat": 4,
 "nbformat_minor": 2
}
